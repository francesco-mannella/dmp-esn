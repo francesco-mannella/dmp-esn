{
 "cells": [
  {
   "cell_type": "code",
   "execution_count": null,
   "metadata": {
    "collapsed": false
   },
   "outputs": [],
   "source": [
    "%matplotlib inline\n",
    "from pylab import *\n",
    "\n",
    "\n",
    "from esn.esn_discrete import ESN_discrete as ESN\n",
    "\n",
    "# root-mean-square error\n",
    "def rmse(y, y_pred): \n",
    "    return sqrt( mean((y-y_pred)**2) );\n"
   ]
  },
  {
   "cell_type": "markdown",
   "metadata": {},
   "source": [
    "We use **ESN_discrete** class as it were a DMP.\n",
    "\n",
    "<img src=\"esn/esn_discrete.png\" width=500>\n",
    "\n",
    "* **ESN_discrete.imitate_path(path)** runs the regression.\n",
    "\n",
    "* **ESN_discrete.rollout()** produces a trajectory with the learned weights.\n",
    "\n",
    "\n",
    "Class of trajectories:\n",
    "\n",
    "$\n",
    "y = g x + a (1-t) sin(6\\pi t) \n",
    "$\n",
    "\n",
    "where $g$ is the goal, $a$ is the amplitude of the sinusoidal component, s is the starting point\n",
    "\n",
    "* 3 training trajectories \n",
    "    * s = 0\n",
    "    * g = 1.0, 0.8, 0.6\n",
    "    * a = 0.00, 0.10, 0.20\n",
    "* 3 test trajectories \n",
    "    * s = 0\n",
    "    * g = 0.9, 0.7, 0.5\n",
    "    * a = 0.05, 0.15, 0.25"
   ]
  },
  {
   "cell_type": "code",
   "execution_count": null,
   "metadata": {
    "collapsed": false,
    "run_control": {
     "marked": false
    }
   },
   "outputs": [],
   "source": [
    "x = linspace(0,1,100)\n",
    "\n",
    "Gy = [1.0, 0.8, 0.6]\n",
    "Sy = [0.0, 0.1, 0.2]\n",
    "Gt = [0.9, 0.7, 0.5]\n",
    "St = [0.05, 0.15, 0.25]\n",
    "\n",
    "Y=[]\n",
    "for k in xrange(len(Gy)) :\n",
    "    y = Gy[k]*x + Sy[k]*sin(6*pi*x)*(1-x)\n",
    "    y = hstack([y,Gy[k]*ones(100)])\n",
    "    Y.append(y)\n",
    "    \n",
    "T=[]\n",
    "for k in xrange(len(Gt)) :\n",
    "    y = Gt[k]*x + St[k]*sin(6*pi*x)*(1-x)\n",
    "    y = hstack([y,Gt[k]*ones(100)])\n",
    "    T.append(y)\n",
    "    \n",
    "samples = len(Y)\n",
    "tests = len(T)\n",
    "\n",
    "fig = figure(figsize=(10,5))\n",
    "p1,_,_ =plot(array(Y).T, c=\"red\", lw=2, label=\"training\")\n",
    "p2,_,_ =plot(array(T).T, c=\"blue\", label=\"test\")\n",
    "legend(handles=[p1, p2], bbox_to_anchor=(1.05, 1), loc=2, borderaxespad=0.)\n",
    "ylim(-0.1,1.2)"
   ]
  },
  {
   "cell_type": "markdown",
   "metadata": {},
   "source": [
    "### Initialize the echo-state network"
   ]
  },
  {
   "cell_type": "code",
   "execution_count": null,
   "metadata": {
    "collapsed": false,
    "scrolled": true
   },
   "outputs": [],
   "source": [
    "sim = ESN(\n",
    "    N       = 100,\n",
    "    timesteps = 200,\n",
    "    dt      = 0.001,\n",
    "    tau     = 0.09,\n",
    "    alpha   = 0.00801,\n",
    "    beta    = 0.9999,\n",
    "    epsilon = 1.0e-30,\n",
    "    lmbd    = 1e-4\n",
    ")\n"
   ]
  },
  {
   "cell_type": "markdown",
   "metadata": {},
   "source": [
    "### Learning\n",
    "\n",
    "Regression"
   ]
  },
  {
   "cell_type": "code",
   "execution_count": null,
   "metadata": {
    "collapsed": true
   },
   "outputs": [],
   "source": [
    "# run the regression\n",
    "sim.imitate_path(Y)"
   ]
  },
  {
   "cell_type": "markdown",
   "metadata": {},
   "source": [
    "### Test\n",
    "Reproducing the trajectories"
   ]
  },
  {
   "cell_type": "code",
   "execution_count": null,
   "metadata": {
    "collapsed": false,
    "run_control": {
     "marked": false
    }
   },
   "outputs": [],
   "source": [
    "# reproduce the training trajectories\n",
    "Y_r = []\n",
    "for k in xrange(samples) :  \n",
    "    y_r = sim.rollout(y0=0.0, goal=Gy[k])\n",
    "    Y_r.append(y_r)\n",
    "    \n",
    "# reproduce the test trajectories\n",
    "T_r = []\n",
    "for k in xrange(samples) :  \n",
    "    t_r = sim.rollout(y0=0.0, goal=Gt[k])\n",
    "    T_r.append(t_r)  "
   ]
  },
  {
   "cell_type": "markdown",
   "metadata": {},
   "source": [
    "Computing the errors"
   ]
  },
  {
   "cell_type": "code",
   "execution_count": null,
   "metadata": {
    "collapsed": false
   },
   "outputs": [],
   "source": [
    "Y_rmse = rmse ( array(Y).ravel(), array(Y_r).ravel())\n",
    "pT_rmse = rmse ( array(T[:-2]).ravel(), array(T_r[:-2]).ravel())\n",
    "T_rmse = rmse ( array(T).ravel(), array(T_r).ravel())\n",
    "print \"TRAINING RMSE: {}\".format( Y_rmse )\n",
    "print \"INTERNAL TEST RMSE: {}\".format( pT_rmse )\n",
    "print \"TEST RMSE: {}\".format( T_rmse )\n"
   ]
  },
  {
   "cell_type": "markdown",
   "metadata": {},
   "source": [
    "Plotting the trajectories"
   ]
  },
  {
   "cell_type": "code",
   "execution_count": null,
   "metadata": {
    "collapsed": false,
    "scrolled": false
   },
   "outputs": [],
   "source": [
    "fig1 = figure(figsize=(20,5))\n",
    "fig2 = figure(figsize=(20,5))\n",
    "for k in xrange(samples) :  \n",
    "    ax1 = fig1.add_subplot(1,samples,k+1)\n",
    "    ax1.set_title(\"goal: {}\".format(Gy[k]))\n",
    "    ax1.plot(Y[k], c=\"red\", lw=3)\n",
    "    ax1.plot(Y_r[k], c=\"blue\", lw=2)\n",
    "    ax1.set_ylim([-.3,1.1])\n",
    "\n",
    "for k in xrange(tests) :  \n",
    "    ax2 = fig2.add_subplot(1,samples,k+1)\n",
    "    ax2.set_title(\"goal: {}\".format(Gt[k]))\n",
    "    ax2.plot(T_r[k], c=\"blue\", lw=3)\n",
    "    ax2.plot(T[k], c=\"red\", lw=2)\n",
    "    ax2.set_ylim([-.3,1.1])\n",
    "tight_layout()\n"
   ]
  },
  {
   "cell_type": "markdown",
   "metadata": {},
   "source": [
    "Plotting the activity and the spectrogram of the network"
   ]
  },
  {
   "cell_type": "code",
   "execution_count": null,
   "metadata": {
    "collapsed": false,
    "scrolled": true
   },
   "outputs": [],
   "source": [
    "fig = figure(figsize=(20,4))\n",
    "ax = fig.add_subplot(121)\n",
    "x = sim.activations()\n",
    "pl = ax.plot(x.T)\n",
    "ax = fig.add_subplot(122)\n",
    "l = eigvals(sim.res.w)\n",
    "sr = max(abs(l))\n",
    "sc = ax.scatter(real(l), imag(l))\n",
    "ax.set_xlim([-sr,sr])\n",
    "ax.set_ylim([-sr,sr])"
   ]
  }
 ],
 "metadata": {
  "css": [
   ""
  ],
  "kernelspec": {
   "display_name": "Python 2",
   "language": "python",
   "name": "python2"
  },
  "language_info": {
   "codemirror_mode": {
    "name": "ipython",
    "version": 2
   },
   "file_extension": ".py",
   "mimetype": "text/x-python",
   "name": "python",
   "nbconvert_exporter": "python",
   "pygments_lexer": "ipython2",
   "version": "2.7.9"
  },
  "latex_envs": {
   "bibliofile": "biblio.bib",
   "cite_by": "apalike",
   "current_citInitial": 1,
   "eqLabelWithNumbers": true,
   "eqNumInitial": 0
  }
 },
 "nbformat": 4,
 "nbformat_minor": 0
}
