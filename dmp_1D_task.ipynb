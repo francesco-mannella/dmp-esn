{
 "cells": [
  {
   "cell_type": "markdown",
   "metadata": {},
   "source": [
    "Using code from  https://github.com/studywolf/pydmps for dmps"
   ]
  },
  {
   "cell_type": "code",
   "execution_count": 67,
   "metadata": {
    "collapsed": false,
    "scrolled": true
   },
   "outputs": [
    {
     "data": {
      "text/plain": [
       "(-0.1, 1.1)"
      ]
     },
     "execution_count": 67,
     "metadata": {},
     "output_type": "execute_result"
    },
    {
     "data": {
      "image/png": "[encoded data removed]",
      "text/plain": [
       "<matplotlib.figure.Figure at 0x7f30cd9692d0>"
      ]
     },
     "metadata": {},
     "output_type": "display_data"
    }
   ],
   "source": [
    "%matplotlib inline\n",
    "import numpy as np\n",
    "import matplotlib.pyplot as pl\n",
    "\n",
    "import pydmps.dmp_discrete as DMP\n",
    "\n",
    "# trajectory to be learned\n",
    "path = np.linspace(0,1,21)\n",
    "path = 0.5 + np.maximum(0,np.tanh(15*(path-.5)))/2.0\n",
    "\n",
    "pl.plot(path)\n",
    "pl.ylim([-.1,1.1])"
   ]
  },
  {
   "cell_type": "code",
   "execution_count": 68,
   "metadata": {
    "collapsed": false,
    "scrolled": false
   },
   "outputs": [
    {
     "data": {
      "image/png": "[encoded data removed]",
      "text/plain": [
       "<matplotlib.figure.Figure at 0x7f30cdc02b10>"
      ]
     },
     "metadata": {},
     "output_type": "display_data"
    }
   ],
   "source": [
    "# number of basis functions\n",
    "points = 1000\n",
    "\n",
    "# init a single dmp. We use the first and last point of the\n",
    "# trajectory as the starting point and the goal\n",
    "dmp = DMP.DMPs_discrete(dmps=1, bfs=points, y0=path[0], goal=path[-1])\n",
    "# compute the weights\n",
    "dmp.imitate_path(y_des=path)\n",
    "\n",
    "# plot the desired trajectory when goal is 1\n",
    "pl.plot(path, linewidth=3)\n",
    "\n",
    "# iterate goals from 0 to 1\n",
    "for goal in np.linspace(0,1,5):\n",
    "    \n",
    "    # change goal\n",
    "    dmp.goal[0] = goal\n",
    "    # run the dmp. Returns trajectory, speed and acceleration\n",
    "    y_track,dy_track,ddy_track = dmp.rollout()\n",
    "    \n",
    "    pl.plot(np.linspace(0,20,100),y_track)\n",
    "    pl.ylim([-.1,1.1])\n"
   ]
  }
 ],
 "metadata": {
  "css": [
   ""
  ],
  "kernelspec": {
   "display_name": "Python 2",
   "language": "python",
   "name": "python2"
  },
  "language_info": {
   "codemirror_mode": {
    "name": "ipython",
    "version": 2
   },
   "file_extension": ".py",
   "mimetype": "text/x-python",
   "name": "python",
   "nbconvert_exporter": "python",
   "pygments_lexer": "ipython2",
   "version": "2.7.9"
  },
  "latex_envs": {
   "bibliofile": "biblio.bib",
   "cite_by": "apalike",
   "current_citInitial": 1,
   "eqLabelWithNumbers": true,
   "eqNumInitial": 0
  }
 },
 "nbformat": 4,
 "nbformat_minor": 0
}
