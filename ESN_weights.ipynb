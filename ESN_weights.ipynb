{
 "cells": [
  {
   "cell_type": "markdown",
   "metadata": {},
   "source": [
    "* [ESP: analytical method (the wrong one)](#ESP%3A-analytical-method-%28the-wrong-one%29)\n",
    "* [ESP: iterative method (the right one)](#ESP%3A-iterative-method-%28the-right-one%29)\n",
    "* [ESP: analytical method (the RIGHT one)](#ESP%3A-analytical-method-%28the-RIGHT-one%29)\n",
    "* [ESP: analytical method (the RIGHT one) 1.01](#ESP%3A-analytical-method-%28the-RIGHT-one%29-1.01)"
   ]
  },
  {
   "cell_type": "code",
   "execution_count": 72,
   "metadata": {
    "collapsed": false,
    "run_control": {
     "marked": false
    }
   },
   "outputs": [
    {
     "name": "stdout",
     "output_type": "stream",
     "text": [
      "done\n"
     ]
    }
   ],
   "source": [
    "%matplotlib inline\n",
    "from pylab import *\n",
    "\n",
    "# costants\n",
    "#-------------------------------------------------------\n",
    "n = 200\n",
    "dt = 0.001\n",
    "tau = 0.01\n",
    "epsilon = 1e-23\n",
    "alpha = 0.3\n",
    "target = 1-epsilon\n",
    "itarget = 1.0 - (epsilon/2.0)\n",
    "#-------------------------------------------------------\n",
    "\n",
    "\n",
    "# utils\n",
    "#-------------------------------------------------------\n",
    "def get_rho_and_eig(X) :\n",
    "    e = eigvals(X) \n",
    "    return  max(abs(e)), e\n",
    "\n",
    "def get_W_from_M(X) :\n",
    "    return (tau/dt)*(X - (1-(dt/tau))*eye(n,n)) \n",
    "\n",
    "def get_M_from_W(X) :\n",
    "    return (dt/tau)*X + (1-(dt/tau))*eye(n,n)\n",
    "\n",
    "def modulate_rotation_contraction(X) :\n",
    "    W1 = .5*(X-X.T)\n",
    "    W2 = .5*(X+W.T)\n",
    "\n",
    "    return alpha*W2 +(1-alpha)*W1\n",
    "\n",
    "#-------------------------------------------------------\n",
    "00\n",
    "# create initial weights\n",
    "W = randn(n, n)\n",
    "W = modulate_rotation_contraction(W)\n",
    "rho, e = get_rho_and_eig(W) \n",
    "3\n",
    "SSW = W.copy()\n",
    "# store weights scaled tho rho=1\n",
    "SW = (W/rho)\n",
    "00\n",
    "print \"done\""
   ]
  },
  {
   "cell_type": "markdown",
   "metadata": {},
   "source": [
    "### ESP: analytical method (the wrong one)"
   ]
  },
  {
   "cell_type": "code",
   "execution_count": 73,
   "metadata": {
    "collapsed": false
   },
   "outputs": [
    {
     "name": "stdout",
     "output_type": "stream",
     "text": [
      "\n",
      "ESP: analytical method (the wrong one)\"\n",
      "\n",
      "W\n",
      "--------------------------------------\n",
      "rho :=  13.546629074335  \n",
      "min :=  -9.5611  max :=   1.7576   \n",
      "\n",
      "M_tilde \n",
      "--------------------------------------\n",
      "rho :=   1.000000000000  \n",
      "min :=  -0.1662  max :=   0.1758   \n",
      "\n"
     ]
    },
    {
     "data": {
      "image/png": "[encoded data removed]",
      "text/plain": [
       "<matplotlib.figure.Figure at 0x7ff6a9bc9150>"
      ]
     },
     "metadata": {},
     "output_type": "display_data"
    }
   ],
   "source": [
    "M = SW*target\n",
    "W = get_W_from_M(M)\n",
    "\n",
    "figure(\"Method1\", figsize=(6,2))\n",
    "#*****************************\n",
    "m_rho, m_e = get_rho_and_eig(M) \n",
    "#*****************************\n",
    "subplot(121, aspect=\"equal\")\n",
    "title(\"eigenvalues of M_tilde\")\n",
    "scatter(real(m_e), imag(m_e))\n",
    "xlim([-m_rho, m_rho])\n",
    "ylim([-m_rho, m_rho])\n",
    "#*****************************\n",
    "\n",
    "#*****************************\n",
    "rho, e = get_rho_and_eig(W) \n",
    "#*****************************\n",
    "subplot(122, aspect=\"equal\")\n",
    "title(\"eigenvalues of W\")\n",
    "scatter(real(e), imag(e))\n",
    "xlim([-rho, rho])\n",
    "ylim([-rho, rho])\n",
    "#*****************************\n",
    "\n",
    "print \"\"\"\n",
    "ESP: analytical method (the wrong one)\"\n",
    "\n",
    "W\n",
    "--------------------------------------\n",
    "rho := {:16.12f}  \n",
    "min := {:8.4f}  max := {:8.4f}   \n",
    "\n",
    "M_tilde \n",
    "--------------------------------------\n",
    "rho := {:16.12f}  \n",
    "min := {:8.4f}  max := {:8.4f}   \n",
    "\"\"\".format(rho, W.min(), W.max(), \n",
    "           m_rho, M.min(), M.max())"
   ]
  },
  {
   "cell_type": "markdown",
   "metadata": {},
   "source": [
    "### ESP: iterative method (the right one)"
   ]
  },
  {
   "cell_type": "code",
   "execution_count": 74,
   "metadata": {
    "collapsed": false,
    "scrolled": true
   },
   "outputs": [
    {
     "name": "stdout",
     "output_type": "stream",
     "text": [
      "\n",
      "ESP: iterative method\n",
      "W\n",
      "--------------------------------------\n",
      "rho :=   4.330463513914  \n",
      "min :=  -0.7199  max :=   0.7611   \n",
      "\n",
      "M_tilde \n",
      "--------------------------------------\n",
      "rho :=   1.000000000000  \n",
      "min :=  -0.0720  max :=   0.9297   \n",
      "\n"
     ]
    },
    {
     "data": {
      "image/png": "[encoded data removed]",
      "text/plain": [
       "<matplotlib.figure.Figure at 0x7ff6a851e490>"
      ]
     },
     "metadata": {},
     "output_type": "display_data"
    }
   ],
   "source": [
    "from scipy.optimize import bisect\n",
    "\n",
    "def dist(rho_estimate) :\n",
    "    M = get_M_from_W(rho_estimate*SW)\n",
    "    effective_rho_estimate,_ = get_rho_and_eig(M)\n",
    "    return itarget - effective_rho_estimate\n",
    "\n",
    "rho_estimate = bisect( lambda x: dist(x), 1-epsilon, tau/dt, xtol = epsilon/2. )\n",
    "\n",
    "W = SW*rho_estimate\n",
    "M = get_M_from_W(W)\n",
    "\n",
    "figure(\"Method2\")\n",
    "#*****************************\n",
    "m_rho, m_e = get_rho_and_eig(M) \n",
    "#*****************************\n",
    "subplot(121, aspect=\"equal\")\n",
    "title(\"eigenvalues of M_tilde\")\n",
    "scatter(real(m_e), imag(m_e))\n",
    "xlim([-m_rho, m_rho])\n",
    "ylim([-m_rho, m_rho])\n",
    "#*****************************\n",
    "\n",
    "#*****************************\n",
    "rho, e = get_rho_and_eig(W) \n",
    "#*****************************\n",
    "subplot(122, aspect=\"equal\")\n",
    "title(\"eigenvalues of W\")\n",
    "scatter(real(e), imag(e))\n",
    "xlim([-rho, rho])\n",
    "ylim([-rho, rho])\n",
    "#*****************************\n",
    "\n",
    "print \"\"\"\n",
    "ESP: iterative method\n",
    "W\n",
    "--------------------------------------\n",
    "rho := {:16.12f}  \n",
    "min := {:8.4f}  max := {:8.4f}   \n",
    "\n",
    "M_tilde \n",
    "--------------------------------------\n",
    "rho := {:16.12f}  \n",
    "min := {:8.4f}  max := {:8.4f}   \n",
    "\"\"\".format(rho, W.min(), W.max(), \n",
    "           m_rho, M.min(), M.max())"
   ]
  },
  {
   "cell_type": "markdown",
   "metadata": {},
   "source": [
    "### ESP: analytical method (the RIGHT one)"
   ]
  },
  {
   "cell_type": "code",
   "execution_count": 75,
   "metadata": {
    "collapsed": true
   },
   "outputs": [],
   "source": [
    "target = 1 - epsilon/2.\n",
    "\n",
    "W = SW.copy()\n",
    "\n",
    "#§§§§§§§§§§§§§§§§§§§§§§§§§§§§§§§§§§§§§§§§§§§§§§§§§§§\n",
    "#§§§§§§§§§§§§§§§§§§§§§§§§§§§§§§§§§§§§§§§§§§§§§§§§§§§\n",
    "#§§§§§§§§§§§§§§§§§§§§§§§§§§§§§§§§§§§§§§§§§§§§§§§§§§§\n",
    "\n",
    "rho, e = get_rho_and_eig(W) \n",
    "\n",
    "x = e.real\n",
    "y = e.imag\n",
    "h = dt/tau\n",
    "\n",
    "#§§§§§§§§§§§§§§§§§§§§§§§§§§§§§§§§§§§§§§§§§§§§§§§§§§§\n",
    "#§§§§§§§§§§§§§§§§§§§§§§§§§§§§§§§§§§§§§§§§§§§§§§§§§§§\n",
    "#§§§§§§§§§§§§§§§§§§§§§§§§§§§§§§§§§§§§§§§§§§§§§§§§§§§\n"
   ]
  },
  {
   "cell_type": "markdown",
   "metadata": {},
   "source": [
    "$$ \n",
    "\\begin{align}\n",
    "&&&\\max\\left|\\mathbf{\\Lambda}_W\\right| = k \\ \\ \\ \\ \\ \\ \\ \\ \\ \\ \\ \\ \\ \\ \\\n",
    "h = \\frac{\\delta t}{\\tau} \\\\\n",
    "&\\left|\\mathbf{\\Lambda}_M\\right| = \\sqrt{ \\left(hk\\mathbf{x} + \\left(1-h\\right)\\right)^2 + \\left(hk\\mathbf{y}\\right)^2 }& \n",
    "\\end{align}\n",
    "$$\n",
    "\n",
    "Nota: l'equazione alla destra rappresenta non direttamente il raggio \n",
    "spettrale ma come varia in funzione di k la grandezza di ogni\n",
    "autovalore. La grandezza di un autovalore non è altro che la\n",
    "lunghezza del suo vettore quando è rappresentato nello spazio\n",
    "dei numeri complessi.\n",
    "\n",
    "$$\n",
    "\\begin{align}\n",
    "&&t = 1 - \\frac{\\epsilon}{2} \\ \\ \\ \\ \\ \\ \\ \\\n",
    "\\mathbf{t} = t\\cdot\\mathbf{1}_n \\\\\n",
    "\\\\\n",
    "&\\left|\\mathbf{\\Lambda}_M\\right| - \\mathbf{t} &= 0 \\\\\n",
    "&(\\mathbf{x}^2h^2+\\mathbf{y}^2h^2)k^2 + (2\\mathbf{x}h-2\\mathbf{x}h^2)k + (1+h^2-2h-\\mathbf{t}^2) &= 0\n",
    "\\end{align}\n",
    "$$\n",
    "\n",
    "Nota: risolviamo l'equazione qui sopra per ogni autovalore in modo da scoprire\n",
    "con quale valore di K possiamo farlo diventare grande esattamente target."
   ]
  },
  {
   "cell_type": "code",
   "execution_count": 76,
   "metadata": {
    "collapsed": false,
    "run_control": {
     "marked": false
    }
   },
   "outputs": [],
   "source": [
    "#§§§§§§§§§§§§§§§§§§§§§§§§§§§§§§§§§§§§§§§§§§§§§§§§§§§\n",
    "#§§§§§§§§§§§§§§§§§§§§§§§§§§§§§§§§§§§§§§§§§§§§§§§§§§§\n",
    "#§§§§§§§§§§§§§§§§§§§§§§§§§§§§§§§§§§§§§§§§§§§§§§§§§§§\n",
    "\n",
    "a = x**2*h**2+y**2*h**2\n",
    "b = 2*x*h-2*x*h**2\n",
    "c = 1+h**2-2*h-target**2\n",
    "#discr = b**2-4*a*c #discriminante, per verificare l'esistenza di soluzioni\n",
    "sol1 = (-b - sqrt(b**2-4*a*c))/(2*a)\n",
    "sol2 = (-b + sqrt(b**2-4*a*c))/(2*a)\n",
    "#print sol1, sol2\n",
    "\n",
    "#§§§§§§§§§§§§§§§§§§§§§§§§§§§§§§§§§§§§§§§§§§§§§§§§§§§\n",
    "#§§§§§§§§§§§§§§§§§§§§§§§§§§§§§§§§§§§§§§§§§§§§§§§§§§§\n",
    "#§§§§§§§§§§§§§§§§§§§§§§§§§§§§§§§§§§§§§§§§§§§§§§§§§§§"
   ]
  },
  {
   "cell_type": "markdown",
   "metadata": {},
   "source": [
    "*Sol1* e *Sol2* ci indicano per \n",
    "quali valori di K i vari \n",
    "autovalori assumono \n",
    "grandezza uguale a target.\n",
    "Adesso dobbiamo trovare un \n",
    "valore di K tale che uno degli \n",
    "autovalori è uguale a target \n",
    "mentre gli altri sono tutti\n",
    "minori di target.\n",
    "In questo modo, siamo sicuri che\n",
    "il raggio spettrale sarà uguale\n",
    "a target in quanto l'autovalore \n",
    "più grande sarà uguale a target.\n",
    "Sappiamo che gli autovalori \n",
    "(o meglio il loro quadrato)\n",
    "crescono come delle parabole. \n",
    "Inoltre, il coefficiente a della \n",
    "parabola è sempre positivo.\n",
    "Quindi sappiamo che la parabola \n",
    "ha i rami verso l'altro, il che \n",
    "implica che tra le due soluzioni,\n",
    "la parabola è minore di target \n",
    "mentre all'esterno è maggiore.\n",
    "Facendo un intersezione degli \n",
    "intervalli compresi tra le due \n",
    "soluzioni di tutti gli autovalori,\n",
    "troviamo un intervallo in cui \n",
    "*tutti* gli autovalori sono\n",
    "minori di target.\n",
    "Scegliendo poi l'estremo destro \n",
    "di questo intervallo, ci troviamo \n",
    "in un punto in cui tutti sono\n",
    "minori di target tranne coloro \n",
    "che hanno una soluzione in quel\n",
    "punto e sono quindi pari a target.\n",
    "Il raggio spettrale in quel\n",
    "punto è quindi target."
   ]
  },
  {
   "cell_type": "code",
   "execution_count": 77,
   "metadata": {
    "collapsed": false
   },
   "outputs": [
    {
     "name": "stdout",
     "output_type": "stream",
     "text": [
      "\n",
      "ESP: analytical method (the RIGHT one)\n",
      "W\n",
      "--------------------------------------\n",
      "rho :=   4.330463513914  \n",
      "min :=  -0.7199  max :=   0.7611   \n",
      "\n",
      "M_tilde \n",
      "--------------------------------------\n",
      "rho :=   1.000000000000  \n",
      "min :=  -0.0720  max :=   0.9297   \n",
      "\n"
     ]
    },
    {
     "data": {
      "image/png": "[encoded data removed]",
      "text/plain": [
       "<matplotlib.figure.Figure at 0x7ff6a8011410>"
      ]
     },
     "metadata": {},
     "output_type": "display_data"
    }
   ],
   "source": [
    "#§§§§§§§§§§§§§§§§§§§§§§§§§§§§§§§§§§§§§§§§§§§§§§§§§§§\n",
    "#§§§§§§§§§§§§§§§§§§§§§§§§§§§§§§§§§§§§§§§§§§§§§§§§§§§\n",
    "#§§§§§§§§§§§§§§§§§§§§§§§§§§§§§§§§§§§§§§§§§§§§§§§§§§§\n",
    "def overlap(sol1,sol2):\n",
    "    interval = (sol1[0], sol2[0])\n",
    "    for left, right in zip(sol1,sol2):\n",
    "        if right < left:\n",
    "            print 'Ouch! Found right solution smaller than left solution..'\n",
    "        minimum = max(left, interval[0])\n",
    "        maximum = min(right, interval[1])\n",
    "        if minimum > maximum:\n",
    "            print 'No interval..'\n",
    "            break\n",
    "        interval = (minimum,maximum)\n",
    "    return interval\n",
    "    \n",
    "#we choose the solution on the right (the left one can \n",
    "#be negative (or maybe always is))\n",
    "correctRhoMultiplier = overlap(sol1,sol2)[1] \n",
    "W = correctRhoMultiplier*W\n",
    "\n",
    "#§§§§§§§§§§§§§§§§§§§§§§§§§§§§§§§§§§§§§§§§§§§§§§§§§§§\n",
    "#§§§§§§§§§§§§§§§§§§§§§§§§§§§§§§§§§§§§§§§§§§§§§§§§§§§\n",
    "#§§§§§§§§§§§§§§§§§§§§§§§§§§§§§§§§§§§§§§§§§§§§§§§§§§§\n",
    "\n",
    "M = get_M_from_W(W)\n",
    "\n",
    "figure(\"Method3\")\n",
    "#*****************************\n",
    "m_rho, m_e = get_rho_and_eig(M)\n",
    "#*****************************\n",
    "subplot(121, aspect=\"equal\")\n",
    "title(\"eigenvalues of M_tilde\")\n",
    "scatter(real(m_e), imag(m_e))\n",
    "xlim([-m_rho, m_rho])\n",
    "ylim([-m_rho, m_rho])\n",
    "#*****************************\n",
    "\n",
    "#*****************************\n",
    "rho, e = get_rho_and_eig(W)\n",
    "#*****************************\n",
    "subplot(122, aspect=\"equal\")\n",
    "title(\"eigenvalues of W\")\n",
    "scatter(real(e), imag(e))\n",
    "xlim([-rho, rho])\n",
    "ylim([-rho, rho])\n",
    "#*****************************\n",
    "print \"\"\"\n",
    "ESP: analytical method (the RIGHT one)\n",
    "W\n",
    "--------------------------------------\n",
    "rho := {:16.12f}  \n",
    "min := {:8.4f}  max := {:8.4f}   \n",
    "\n",
    "M_tilde \n",
    "--------------------------------------\n",
    "rho := {:16.12f}  \n",
    "min := {:8.4f}  max := {:8.4f}   \n",
    "\"\"\".format(rho, W.min(), W.max(), \n",
    "           m_rho, M.min(), M.max())\n"
   ]
  },
  {
   "cell_type": "markdown",
   "metadata": {},
   "source": [
    "### ESP: analytical method (the RIGHT one) 1.01\n",
    "Maibe we can skip the search through the eigenvalues"
   ]
  },
  {
   "cell_type": "code",
   "execution_count": 78,
   "metadata": {
    "collapsed": false
   },
   "outputs": [
    {
     "name": "stdout",
     "output_type": "stream",
     "text": [
      "\n",
      "ESP: analytical method (the RIGHT one)\n",
      "W\n",
      "--------------------------------------\n",
      "rho :=   4.330463513914  \n",
      "min :=  -0.7199  max :=   0.7611   \n",
      "\n",
      "M_tilde \n",
      "--------------------------------\n",
      "rho :=   1.000000000000  \n",
      "min :=  -0.0720  max :=   0.9297   \n",
      "\n"
     ]
    },
    {
     "data": {
      "image/png": "[encoded data removed]",
      "text/plain": [
       "<matplotlib.figure.Figure at 0x7ff7106c1b90>"
      ]
     },
     "metadata": {},
     "output_type": "display_data"
    }
   ],
   "source": [
    "target = 1 - epsilon/2.\n",
    "\n",
    "W = SW.copy()\n",
    "#§§§§§§§§§§§§§§§§§§§§§§§§§§§§§§§§§§§§§§§§§§§§§§§§§§§\n",
    "#§§§§§§§§§§§§§§§§§§§§§§§§§§§§§§§§§§§§§§§§§§§§§§§§§§§\n",
    "#§§§§§§§§§§§§§§§§§§§§§§§§§§§§§§§§§§§§§§§§§§§§§§§§§§§\n",
    "\n",
    "rho, e = get_rho_and_eig(W) \n",
    "x = e.real\n",
    "y = e.imag\n",
    "h = dt/tau\n",
    "a = x**2*h**2 + y**2*h**2\n",
    "b = 2*x*h - 2*x*h**2\n",
    "c = 1 + h**2 - 2*h - target**2\n",
    "\n",
    "# just get the positive solutions\n",
    "sol2 = (-b + sqrt(b**2 - 4*a*c))/(2*a)\n",
    "# and take the minor amongst them\n",
    "correctRhoMultiplier = min(sol2)\n",
    "W = correctRhoMultiplier*W\n",
    "\n",
    "#§§§§§§§§§§§§§§§§§§§§§§§§§§§§§§§§§§§§§§§§§§§§§§§§§§§\n",
    "#§§§§§§§§§§§§§§§§§§§§§§§§§§§§§§§§§§§§§§§§§§§§§§§§§§§\n",
    "#§§§§§§§§§§§§§§§§§§§§§§§§§§§§§§§§§§§§§§§§§§§§§§§§§§§\n",
    "\n",
    "M = get_M_from_W(W)\n",
    "\n",
    "figure(\"Method3\")\n",
    "#*****************************\n",
    "m_rho, m_e = get_rho_and_eig(M)\n",
    "#*****************************\n",
    "subplot(121, aspect=\"equal\")\n",
    "title(\"eigenvalues of M_tilde\")\n",
    "scatter(real(m_e), imag(m_e))\n",
    "xlim([-m_rho, m_rho])\n",
    "ylim([-m_rho, m_rho])\n",
    "#*****************************\n",
    "\n",
    "#*****************************\n",
    "rho, e = get_rho_and_eig(W)\n",
    "#*****************************\n",
    "subplot(122, aspect=\"equal\")\n",
    "title(\"eigenvalues of W\")\n",
    "scatter(real(e), imag(e))\n",
    "xlim([-rho, rho])\n",
    "ylim([-rho, rho])\n",
    "#*****************************\n",
    "print \"\"\"\n",
    "ESP: analytical method (the RIGHT one)\n",
    "W\n",
    "--------------------------------------\n",
    "rho := {:16.12f}  \n",
    "min := {:8.4f}  max := {:8.4f}   \n",
    "\n",
    "M_tilde \n",
    "--------------------------------\n",
    "rho := {:16.12f}  \n",
    "min := {:8.4f}  max := {:8.4f}   \n",
    "\"\"\".format(rho, W.min(), W.max(), \n",
    "           m_rho, M.min(), M.max())\n"
   ]
  }
 ],
 "metadata": {
  "css": [
   ""
  ],
  "kernelspec": {
   "display_name": "Python 2",
   "language": "python",
   "name": "python2"
  },
  "language_info": {
   "codemirror_mode": {
    "name": "ipython",
    "version": 2
   },
   "file_extension": ".py",
   "mimetype": "text/x-python",
   "name": "python",
   "nbconvert_exporter": "python",
   "pygments_lexer": "ipython2",
   "version": "2.7.9"
  },
  "latex_envs": {
   "bibliofile": "biblio.bib",
   "cite_by": "apalike",
   "current_citInitial": 1,
   "eqLabelWithNumbers": true,
   "eqNumInitial": 0
  }
 },
 "nbformat": 4,
 "nbformat_minor": 0
}
